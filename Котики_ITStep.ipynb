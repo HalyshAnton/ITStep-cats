{
  "nbformat": 4,
  "nbformat_minor": 0,
  "metadata": {
    "colab": {
      "provenance": [],
      "authorship_tag": "ABX9TyMDG8JB03Vzd+kaVXWB2M7x",
      "include_colab_link": true
    },
    "kernelspec": {
      "name": "python3",
      "display_name": "Python 3"
    },
    "language_info": {
      "name": "python"
    }
  },
  "cells": [
    {
      "cell_type": "markdown",
      "metadata": {
        "id": "view-in-github",
        "colab_type": "text"
      },
      "source": [
        "<a href=\"https://colab.research.google.com/github/HalyshAnton/ITStep-cats/blob/main/%D0%9A%D0%BE%D1%82%D0%B8%D0%BA%D0%B8_ITStep.ipynb\" target=\"_parent\"><img src=\"https://colab.research.google.com/assets/colab-badge.svg\" alt=\"Open In Colab\"/></a>"
      ]
    },
    {
      "cell_type": "code",
      "execution_count": 42,
      "metadata": {
        "cellView": "form",
        "id": "MukMQrhUnNhu"
      },
      "outputs": [],
      "source": [
        "# @title Службова таємниця про котів ITStep\n",
        "\n",
        "\n",
        "import random\n",
        "\n",
        "\n",
        "class Cat:\n",
        "    def __init__(self, name, mood=\"голодний\", color=\"білий\", age=2, personality=\"грайливий\", weight=7):\n",
        "        self.name = name\n",
        "        self.mood = mood\n",
        "        self.color = color\n",
        "        self.age = age\n",
        "        self.personality = personality\n",
        "        self.weight = weight\n",
        "        self.is_hungry = False\n",
        "        self.hunger = 0\n",
        "\n",
        "    def feed(self):\n",
        "      if self.hunger >= 1:\n",
        "        print(f\"{self.name}: не їсть\")\n",
        "      else:\n",
        "        print(f\"{self.name}: хрум, хрум\")\n",
        "        self.hunger += 1\n",
        "\n",
        "        if self.hunger >= 1:\n",
        "          self.is_hungry = False\n",
        "\n",
        "    def play(self):\n",
        "      if self.hunger <= -3:\n",
        "        print(f\"{self.name}: біжить на кухню і мявкає\")\n",
        "        return\n",
        "\n",
        "\n",
        "      action = random.sample([\"бігає як ненормальний\",\n",
        "                              \"полює на ваші ноги\",\n",
        "                              \"дає вам лапу\"],\n",
        "                             k = 1)\n",
        "\n",
        "      print(f\"{self.name}: {action[0]}\")\n",
        "\n",
        "      self.hunger -= 1\n",
        "\n",
        "      if self.hunger <= -1:\n",
        "        self.is_hungry = True\n",
        "\n",
        "    def groom(self):\n",
        "      print(f\"{self.name}: мурррррррр\")\n",
        "\n",
        "\n",
        "\n",
        "\n",
        "def feed(cat):\n",
        "  print(\"Ви: годуєте кота\")\n",
        "  cat.feed()\n",
        "\n",
        "def play_with(cat):\n",
        "  print(\"Ви: граєтесь з котом\")\n",
        "  cat.play()\n",
        "\n",
        "def groom(cat):\n",
        "  print(\"Ви: гладите кота\")\n",
        "  cat.groom()\n",
        "\n",
        "def is_hungry(cat):\n",
        "  return cat.is_hungry\n",
        "\n"
      ]
    },
    {
      "cell_type": "markdown",
      "source": [
        "<font size=6> Створюєму змінну кіт <font>"
      ],
      "metadata": {
        "id": "ZTF0hAVzrsW0"
      }
    },
    {
      "cell_type": "code",
      "source": [
        "cat = Cat(\"Moris\")"
      ],
      "metadata": {
        "id": "1Pz4ZURoq6lT"
      },
      "execution_count": 35,
      "outputs": []
    },
    {
      "cell_type": "markdown",
      "source": [
        "<font size=6> Тепер щось з ним поробим <font>"
      ],
      "metadata": {
        "id": "FTuhFu_WrxNS"
      }
    },
    {
      "cell_type": "code",
      "source": [
        "play_with(cat)\n",
        "play_with(cat)\n",
        "play_with(cat)"
      ],
      "metadata": {
        "colab": {
          "base_uri": "https://localhost:8080/"
        },
        "id": "9AriAyAkrBLw",
        "outputId": "65b69d73-73b6-4239-937b-d4a5b27cb946"
      },
      "execution_count": 36,
      "outputs": [
        {
          "output_type": "stream",
          "name": "stdout",
          "text": [
            "Ви: граєтесь з котом\n",
            "Moris: дає вам лапу\n",
            "Ви: граєтесь з котом\n",
            "Moris: полює на ваші ноги\n",
            "Ви: граєтесь з котом\n",
            "Moris: полює на ваші ноги\n"
          ]
        }
      ]
    },
    {
      "cell_type": "code",
      "source": [
        "feed(cat)"
      ],
      "metadata": {
        "colab": {
          "base_uri": "https://localhost:8080/"
        },
        "id": "1wESOaFkq-54",
        "outputId": "c1622cfb-d222-432e-c1fb-45d5bc5d9d68"
      },
      "execution_count": 37,
      "outputs": [
        {
          "output_type": "stream",
          "name": "stdout",
          "text": [
            "Ви: годуєте кота\n",
            "Moris: хрум, хрум\n"
          ]
        }
      ]
    },
    {
      "cell_type": "code",
      "source": [
        "groom(cat)"
      ],
      "metadata": {
        "colab": {
          "base_uri": "https://localhost:8080/"
        },
        "id": "oD_LzwpbrEPY",
        "outputId": "1282dd0b-2abc-41e1-d7df-a5b509386136"
      },
      "execution_count": 38,
      "outputs": [
        {
          "output_type": "stream",
          "name": "stdout",
          "text": [
            "Ви: гладите кота\n",
            "Moris: мурррррррр\n"
          ]
        }
      ]
    },
    {
      "cell_type": "code",
      "source": [
        "play_with(cat)\n",
        "play_with(cat)\n",
        "play_with(cat)"
      ],
      "metadata": {
        "colab": {
          "base_uri": "https://localhost:8080/"
        },
        "id": "_dbZPM2Mt0Ls",
        "outputId": "45dd09f3-deb1-48a4-d00b-463b6d5c9d5c"
      },
      "execution_count": 39,
      "outputs": [
        {
          "output_type": "stream",
          "name": "stdout",
          "text": [
            "Ви: граєтесь з котом\n",
            "Moris: полює на ваші ноги\n",
            "Ви: граєтесь з котом\n",
            "Moris: біжить на кухню і мявкає\n",
            "Ви: граєтесь з котом\n",
            "Moris: біжить на кухню і мявкає\n"
          ]
        }
      ]
    },
    {
      "cell_type": "markdown",
      "source": [
        "<font size=6> Може він голодний <font>"
      ],
      "metadata": {
        "id": "RpuCT1l9sqLG"
      }
    },
    {
      "cell_type": "code",
      "source": [
        "cat.is_hungry"
      ],
      "metadata": {
        "colab": {
          "base_uri": "https://localhost:8080/"
        },
        "id": "PFH8jrw7rT59",
        "outputId": "91475d02-830f-492f-f2f3-89a27c44c0d4"
      },
      "execution_count": 40,
      "outputs": [
        {
          "output_type": "execute_result",
          "data": {
            "text/plain": [
              "True"
            ]
          },
          "metadata": {},
          "execution_count": 40
        }
      ]
    },
    {
      "cell_type": "code",
      "source": [
        "while cat.is_hungry:\n",
        "  feed(cat)"
      ],
      "metadata": {
        "colab": {
          "base_uri": "https://localhost:8080/"
        },
        "id": "2bdfREzvtGJH",
        "outputId": "5f2a90d0-c6bd-4de1-8a0f-ae0cb423966f"
      },
      "execution_count": 41,
      "outputs": [
        {
          "output_type": "stream",
          "name": "stdout",
          "text": [
            "Ви: годуєте кота\n",
            "Moris: хрум, хрум\n",
            "Ви: годуєте кота\n",
            "Moris: хрум, хрум\n",
            "Ви: годуєте кота\n",
            "Moris: хрум, хрум\n",
            "Ви: годуєте кота\n",
            "Moris: хрум, хрум\n"
          ]
        }
      ]
    },
    {
      "cell_type": "code",
      "source": [],
      "metadata": {
        "id": "7uMcVwUPtrVz"
      },
      "execution_count": null,
      "outputs": []
    }
  ]
}