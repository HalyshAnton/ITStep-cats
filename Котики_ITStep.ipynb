{
  "nbformat": 4,
  "nbformat_minor": 0,
  "metadata": {
    "colab": {
      "provenance": [],
      "authorship_tag": "ABX9TyNCE86+ns9qhvTnnQrwt1yq",
      "include_colab_link": true
    },
    "kernelspec": {
      "name": "python3",
      "display_name": "Python 3"
    },
    "language_info": {
      "name": "python"
    }
  },
  "cells": [
    {
      "cell_type": "markdown",
      "metadata": {
        "id": "view-in-github",
        "colab_type": "text"
      },
      "source": [
        "<a href=\"https://colab.research.google.com/github/HalyshAnton/ITStep-cats/blob/main/%D0%9A%D0%BE%D1%82%D0%B8%D0%BA%D0%B8_ITStep.ipynb\" target=\"_parent\"><img src=\"https://colab.research.google.com/assets/colab-badge.svg\" alt=\"Open In Colab\"/></a>"
      ]
    },
    {
      "cell_type": "code",
      "execution_count": null,
      "metadata": {
        "cellView": "form",
        "id": "MukMQrhUnNhu"
      },
      "outputs": [],
      "source": [
        "# @title Службова таємниця про котів ITStep\n",
        "\n",
        "\n",
        "import random\n",
        "\n",
        "\n",
        "class Cat:\n",
        "    def __init__(self, name, mood=\"голодний\", color=\"білий\", age=2, personality=\"грайливий\", weight=7):\n",
        "        self.name = name\n",
        "        self.mood = mood\n",
        "        self.color = color\n",
        "        self.age = age\n",
        "        self.personality = personality\n",
        "        self.weight = weight\n",
        "        self.is_hungry = False\n",
        "        self.hunger = 0\n",
        "\n",
        "    def feed(self):\n",
        "      if self.hunger >= 1:\n",
        "        print(f\"{self.name}: не їсть\")\n",
        "      else:\n",
        "        print(f\"{self.name}: хрум, хрум\")\n",
        "        self.hunger += 1\n",
        "\n",
        "        if self.hunger >= 1:\n",
        "          self.is_hungry = False\n",
        "\n",
        "    def play(self):\n",
        "      if self.hunger <= -3:\n",
        "        print(f\"{self.name}: біжить на кухню і мявкає\")\n",
        "        return\n",
        "\n",
        "\n",
        "      action = random.sample([\"бігає як ненормальний\",\n",
        "                              \"полює на ваші ноги\",\n",
        "                              \"дає вам лапу\"],\n",
        "                             k = 1)\n",
        "\n",
        "      print(f\"{self.name}: {action[0]}\")\n",
        "\n",
        "      self.hunger -= 1\n",
        "\n",
        "      if self.hunger <= -1:\n",
        "        self.is_hungry = True\n",
        "\n",
        "    def groom(self):\n",
        "      print(f\"{self.name}: мурррррррр\")\n",
        "\n",
        "\n",
        "\n",
        "\n",
        "def feed(cat):\n",
        "  print(\"Ви: годуєте кота\")\n",
        "  cat.feed()\n",
        "\n",
        "def play_with(cat):\n",
        "  print(\"Ви: граєтесь з котом\")\n",
        "  cat.play()\n",
        "\n",
        "def groom(cat):\n",
        "  print(\"Ви: гладите кота\")\n",
        "  cat.groom()\n",
        "\n",
        "def is_hungry(cat):\n",
        "  return cat.is_hungry\n",
        "\n"
      ]
    },
    {
      "cell_type": "markdown",
      "source": [
        "<font size=6> Створюєму змінну кіт <font>"
      ],
      "metadata": {
        "id": "ZTF0hAVzrsW0"
      }
    },
    {
      "cell_type": "code",
      "source": [
        "cat = Cat(\"Moris\")"
      ],
      "metadata": {
        "id": "1Pz4ZURoq6lT"
      },
      "execution_count": null,
      "outputs": []
    },
    {
      "cell_type": "markdown",
      "source": [
        "<font size=6> Тепер щось з ним поробим <font>"
      ],
      "metadata": {
        "id": "FTuhFu_WrxNS"
      }
    },
    {
      "cell_type": "code",
      "source": [
        "play_with(cat)\n",
        "play_with(cat)\n",
        "play_with(cat)"
      ],
      "metadata": {
        "id": "9AriAyAkrBLw"
      },
      "execution_count": null,
      "outputs": []
    },
    {
      "cell_type": "code",
      "source": [
        "feed(cat)"
      ],
      "metadata": {
        "id": "1wESOaFkq-54"
      },
      "execution_count": null,
      "outputs": []
    },
    {
      "cell_type": "code",
      "source": [
        "groom(cat)"
      ],
      "metadata": {
        "id": "oD_LzwpbrEPY"
      },
      "execution_count": null,
      "outputs": []
    },
    {
      "cell_type": "code",
      "source": [
        "play_with(cat)\n",
        "play_with(cat)\n",
        "play_with(cat)"
      ],
      "metadata": {
        "id": "_dbZPM2Mt0Ls"
      },
      "execution_count": null,
      "outputs": []
    },
    {
      "cell_type": "markdown",
      "source": [
        "<font size=6> Може він голодний <font>"
      ],
      "metadata": {
        "id": "RpuCT1l9sqLG"
      }
    },
    {
      "cell_type": "code",
      "source": [
        "is_hungry(cat)"
      ],
      "metadata": {
        "id": "PFH8jrw7rT59"
      },
      "execution_count": null,
      "outputs": []
    },
    {
      "cell_type": "code",
      "source": [
        "if is_hungry(cat):\n",
        "  feed(cat)"
      ],
      "metadata": {
        "id": "d7vEHEwo8zf-"
      },
      "execution_count": null,
      "outputs": []
    },
    {
      "cell_type": "code",
      "source": [
        "is_hungry(cat)"
      ],
      "metadata": {
        "id": "siXA9hJV8zPl"
      },
      "execution_count": null,
      "outputs": []
    },
    {
      "cell_type": "code",
      "source": [
        "while is_hungry(cat):\n",
        "  feed(cat)"
      ],
      "metadata": {
        "id": "2bdfREzvtGJH"
      },
      "execution_count": null,
      "outputs": []
    },
    {
      "cell_type": "markdown",
      "source": [
        "<font size=6> Тепер ваша черга <font>"
      ],
      "metadata": {
        "id": "wLtXu7BX82R4"
      }
    },
    {
      "cell_type": "code",
      "source": [
        "cat = Cat(\"\")"
      ],
      "metadata": {
        "id": "7uMcVwUPtrVz"
      },
      "execution_count": null,
      "outputs": []
    }
  ]
}